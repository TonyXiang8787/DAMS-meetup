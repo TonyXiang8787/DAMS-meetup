{
 "cells": [
  {
   "cell_type": "code",
   "execution_count": 1,
   "id": "b64f45a4",
   "metadata": {},
   "outputs": [],
   "source": [
    "import numpy as np\n",
    "import scipy.sparse as sp\n",
    "import numba"
   ]
  },
  {
   "cell_type": "markdown",
   "id": "8abdcb0d",
   "metadata": {},
   "source": [
    "# Problem Definition\n",
    "\n",
    "## Input\n",
    "\n",
    "Given two $N \\times N$ sparse marices $\\mathbf{A}$ and $\\mathbf{B}$:\n",
    "\n",
    "* A is a diagonal with only non-zeros at the main diagonal. \n",
    "  * In diagonal format, https://docs.scipy.org/doc/scipy/reference/generated/scipy.sparse.dia_matrix.html\n",
    "* B is a normal matrix with approximately 4 non-zeros per row, randomly distributed.\n",
    "  * In CSR format, https://docs.scipy.org/doc/scipy/reference/generated/scipy.sparse.csr_matrix.html\n",
    "\n",
    "## Target\n",
    "\n",
    "How to efficiently calculate the matrix product $\\mathbf{C} = \\mathbf{A} \\mathbf{B}$?\n",
    "\n",
    "* The result matrix should also be in CSR format.\n",
    "* The matrix should have canonical format\n",
    "  * Column indices are sorted\n",
    "  * No duplicated entries\n"
   ]
  },
  {
   "cell_type": "code",
   "execution_count": 2,
   "id": "743d9718",
   "metadata": {},
   "outputs": [],
   "source": [
    "N = int(1e6)\n",
    "np.random.seed(1)\n",
    "\n",
    "A = sp.dia_matrix((np.random.randn(1, N), [0]), shape=(N, N))\n",
    "B = sp.csr_matrix(\n",
    "    (\n",
    "        np.random.randn(N * 4),  # 4N elements\n",
    "        (\n",
    "            np.repeat(np.arange(N), 4),\n",
    "            np.random.randint(low=N, high=None, size=N * 4)\n",
    "        )\n",
    "    ),\n",
    "    shape=(N, N)\n",
    ")\n",
    "B.sort_indices()\n",
    "B.sum_duplicates()"
   ]
  },
  {
   "cell_type": "markdown",
   "id": "e5b83522",
   "metadata": {},
   "source": [
    "# Naive Calculation\n",
    "\n",
    "Call sparse matrix multiply using `scipy.sparse`."
   ]
  },
  {
   "cell_type": "code",
   "execution_count": 3,
   "id": "0bb45f29",
   "metadata": {},
   "outputs": [],
   "source": [
    "def naive_multiply(x, y):\n",
    "    z = x * y\n",
    "    z.sort_indices()\n",
    "    z.sum_duplicates()\n",
    "    return z"
   ]
  },
  {
   "cell_type": "code",
   "execution_count": 4,
   "id": "12bc1b32",
   "metadata": {},
   "outputs": [],
   "source": [
    "C1 = naive_multiply(A, B)"
   ]
  },
  {
   "cell_type": "code",
   "execution_count": 5,
   "id": "be64233c",
   "metadata": {},
   "outputs": [
    {
     "name": "stdout",
     "output_type": "stream",
     "text": [
      "153 ms ± 3.68 ms per loop (mean ± std. dev. of 7 runs, 10 loops each)\n"
     ]
    }
   ],
   "source": [
    "%timeit naive_multiply(A, B)"
   ]
  },
  {
   "cell_type": "markdown",
   "id": "cd67919c",
   "metadata": {},
   "source": [
    "# Direct Manipulation of Sparse Matrix\n",
    "\n",
    "The result of the right-multiplication of a diagonal matrix to a regular matrix.\n",
    "\n",
    "$\n",
    "\\begin{bmatrix}\n",
    "a_1    & 0        & \\cdots & 0      \\\\\n",
    "0      & a_2      & \\cdots & 0      \\\\\n",
    "\\vdots & \\vdots   & \\ddots & \\vdots \\\\\n",
    "0      & \\vdots   & \\cdots & a_N   \n",
    "\\end{bmatrix}\n",
    "\\begin{bmatrix}\n",
    "b_{11} & b_{12} & \\cdots   & b_{1N} \\\\\n",
    "b_{21} & b_{22} & \\cdots   & b_{2N} \\\\\n",
    "\\vdots & \\vdots & \\ddots   & \\vdots \\\\\n",
    "b_{N1} & b_{N2} & \\cdots   & b_{NN}\n",
    "\\end{bmatrix}\n",
    "=\n",
    "\\begin{bmatrix}\n",
    "a_1 b_{11} & a_1 b_{12} & \\cdots   & a_1 b_{1N} \\\\\n",
    "a_2 b_{21} & a_2 b_{22} & \\cdots   & a_2 b_{2N} \\\\\n",
    "\\vdots     & \\vdots     & \\ddots   & \\vdots \\\\\n",
    "a_N b_{N1} & a_N b_{N2} & \\cdots   & a_N b_{NN}\n",
    "\\end{bmatrix}\n",
    "$\n",
    "\n",
    "Note $\\mathbf{B}$ is a sparse matrix in CSR format, the resulted $\\mathbf{C}$ will have exactly the same sparse structure as $\\mathbf{B}$.\n",
    "* The structure of $\\mathbf{B}$ can be directly copied to $\\mathbf{C}$\n",
    "* The data of $\\mathbf{C}$ is the multiplication of the data in $\\mathbf{B}$ and the corresponding values in $\\mathbf{A}$."
   ]
  },
  {
   "cell_type": "markdown",
   "id": "ca6f0abd",
   "metadata": {},
   "source": [
    "## Diagonal Matrix\n",
    "\n",
    "In diagonal matrix `A` there is a property `data`. It is a `1*N` array containing the diagonal entries of $\\mathbf{A}$."
   ]
  },
  {
   "cell_type": "markdown",
   "id": "c98ab465",
   "metadata": {},
   "source": [
    "## CSR Matrix\n",
    "\n",
    "In CSR matrix `B` there are following properties:\n",
    "\n",
    "* `nnz`: number of non-zeros\n",
    "* `data`: a flat array containing all the non-zeros in the matrix, ordered by row. That's why it is allced compressed sparse row.\n",
    "* `indices`: an integer array of the column indices of the data\n",
    "* `indptr`: an `nrow + 1` array specifying the row composition. The column indices for row `i` are stored in `indices[indptr[i]:indptr[i+1]]` and their corresponding values are stored in `data[indptr[i]:indptr[i+1]]`\n",
    "\n",
    "### Example\n",
    "\n",
    "$\n",
    "\\begin{bmatrix}\n",
    "1 & 0 & 5 & 0 \\\\\n",
    "0 & 0 & 0 & 7 \\\\\n",
    "3 & 4 & 6 & 0 \\\\\n",
    "0 & 1 & 0 & 0 \\\\\n",
    "\\end{bmatrix}\n",
    "$\n",
    "\n",
    "```python\n",
    "nnz = 7\n",
    "data = [1, 5, 7, 3, 4, 6, 1]\n",
    "indices = [0, 2, 3, 0, 1, 2, 1]\n",
    "indptr = [0, 2, 3, 6, 7]\n",
    "```"
   ]
  },
  {
   "cell_type": "markdown",
   "id": "8d188857",
   "metadata": {},
   "source": [
    "### Direct Manipulation \n",
    "\n",
    "To calculate `C`:\n",
    "\n",
    "* the structure of `B` (`indices`, `indptr`) can be directly copied.\n",
    "* the `data` of `C` has excatly the same length as `data` of `B`, the data is calculated as follows\n",
    "  * for a given row i, `C.data[indptr[i]:indptr[i + 1]] = B.data[indptr[i]:indptr[i + 1]] * A.data.ravel()[i]`"
   ]
  },
  {
   "cell_type": "markdown",
   "id": "08915078",
   "metadata": {},
   "source": [
    "# Python Implementation of the direct manipulation\n",
    "\n",
    "It can be very slow due to Python intepreter"
   ]
  },
  {
   "cell_type": "code",
   "execution_count": 6,
   "id": "63031306",
   "metadata": {},
   "outputs": [],
   "source": [
    "def multiply_in_python(x, y):\n",
    "    res = y.copy()\n",
    "    indptr = res.indptr\n",
    "    for i in range(y.shape[0]):\n",
    "        res.data[indptr[i]:indptr[i + 1]] *= x.data.ravel()[i]\n",
    "    return res"
   ]
  },
  {
   "cell_type": "code",
   "execution_count": 7,
   "id": "9f44af88",
   "metadata": {},
   "outputs": [
    {
     "data": {
      "text/plain": [
       "True"
      ]
     },
     "execution_count": 7,
     "metadata": {},
     "output_type": "execute_result"
    }
   ],
   "source": [
    "C2 = multiply_in_python(A, B)\n",
    "np.all(C1.data == C2.data)"
   ]
  },
  {
   "cell_type": "code",
   "execution_count": 8,
   "id": "7782b519",
   "metadata": {},
   "outputs": [
    {
     "name": "stdout",
     "output_type": "stream",
     "text": [
      "2.06 s ± 35.2 ms per loop (mean ± std. dev. of 7 runs, 1 loop each)\n"
     ]
    }
   ],
   "source": [
    "%timeit multiply_in_python(A, B)"
   ]
  },
  {
   "cell_type": "markdown",
   "id": "e0f1ad02",
   "metadata": {},
   "source": [
    "# Vectorization using Numpy\n",
    "\n",
    "Try to calculate `C.data` in one-go. The `A.data` has to be expaned with exactly the same length as `B.data`. For row `i`, if there are 4 nonzeros in `B`, the entry in `A.data` needs to be repeated 4 times.\n",
    "\n",
    "## Example\n",
    "\n",
    "$\n",
    "\\mathbf{A} = \\begin{bmatrix}\n",
    "1 & 0 & 0 & 0 \\\\\n",
    "0 & 2 & 0 & 0 \\\\\n",
    "0 & 0 & 3 & 0 \\\\\n",
    "0 & 0 & 0 & 4 \\\\\n",
    "\\end{bmatrix}\n",
    "$\n",
    "\n",
    "$\n",
    "\\mathbf{B} = \\begin{bmatrix}\n",
    "1 & 0 & 5 & 0 \\\\\n",
    "0 & 0 & 0 & 7 \\\\\n",
    "3 & 4 & 6 & 0 \\\\\n",
    "0 & 1 & 0 & 0 \\\\\n",
    "\\end{bmatrix}\n",
    "$\n",
    "\n",
    "\n",
    "$\n",
    "\\mathbf{C} = \\mathbf{A} \\mathbf{B} = \\begin{bmatrix}\n",
    "1 & 0  & 5  & 0 \\\\\n",
    "0 & 0  & 0  & 14 \\\\\n",
    "9 & 12 & 18 & 0 \\\\\n",
    "0 & 4  & 0  & 0 \\\\\n",
    "\\end{bmatrix}\n",
    "$\n",
    "\n",
    "```python\n",
    "A.data = [[1, 2, 3, 4]]\n",
    "A.data.ravel() = [1, 2, 3, 4]\n",
    "\n",
    "B.nnz = 7\n",
    "B.data = [1, 5, 7, 3, 4, 6, 1]\n",
    "B.indices = [0, 2, 3, 0, 1, 2, 1]\n",
    "B.indptr = [0, 2, 3, 6, 7]\n",
    "\n",
    "C = B.copy()\n",
    "ncols_per_row = np.diff(B.indptr) = [2, 1, 3, 1]\n",
    "row_indices = np.repeat(np.arange(B.shape[0]), ncols_per_row) = [0, 0, 1, 2, 2, 2, 3]\n",
    "A.data.ravel()[row_indices] = [1, 1, 2, 3, 3, 3, 4]\n",
    "C.data *= A.data.ravel()[row_indices] = [1, 5, 14, 9, 12, 18, 4]\n",
    "```"
   ]
  },
  {
   "cell_type": "code",
   "execution_count": 9,
   "id": "84385de4",
   "metadata": {},
   "outputs": [],
   "source": [
    "def multiply_in_numpy(x, y):\n",
    "    res = y.copy()\n",
    "    ncols_per_row = np.diff(y.indptr)\n",
    "    row_indices = np.repeat(np.arange(y.shape[0]), ncols_per_row)\n",
    "    res.data *= x.data.ravel()[row_indices]\n",
    "    return res\n"
   ]
  },
  {
   "cell_type": "code",
   "execution_count": 10,
   "id": "a81b5555",
   "metadata": {},
   "outputs": [
    {
     "data": {
      "text/plain": [
       "True"
      ]
     },
     "execution_count": 10,
     "metadata": {},
     "output_type": "execute_result"
    }
   ],
   "source": [
    "C3 = multiply_in_numpy(A, B)\n",
    "np.all(C1.data == C3.data)"
   ]
  },
  {
   "cell_type": "code",
   "execution_count": 11,
   "id": "a4bb5fc5",
   "metadata": {},
   "outputs": [
    {
     "name": "stdout",
     "output_type": "stream",
     "text": [
      "32.2 ms ± 199 µs per loop (mean ± std. dev. of 7 runs, 10 loops each)\n"
     ]
    }
   ],
   "source": [
    "%timeit multiply_in_numpy(A, B)"
   ]
  },
  {
   "cell_type": "markdown",
   "id": "de785761",
   "metadata": {},
   "source": [
    "# JIT (numba) Implementation of the Direct Manipulation\n",
    "\n",
    "* Numpy implementation needs many intermediate arrays, which is time consuming\n",
    "* Write the original for-loop in compiled language, for example, numba JIT. Only one loop is needed"
   ]
  },
  {
   "cell_type": "code",
   "execution_count": 12,
   "id": "54c6d22d",
   "metadata": {},
   "outputs": [],
   "source": [
    "@numba.njit\n",
    "def numba_core(indptr, data_x, data_y, data_z):\n",
    "    size = data_x.shape[0]\n",
    "    for i in range(size):\n",
    "        for k in range(indptr[i], indptr[i + 1]):\n",
    "            data_z[k] = data_x[i] * data_y[k]\n",
    "\n",
    "def multiply_in_numba(x, y):\n",
    "    z_data = np.empty_like(y.data)\n",
    "    numba_core(y.indptr, x.data.ravel(), y.data, z_data)\n",
    "    return sp.csr_matrix((z_data, y.indices, y.indptr), shape=(N, N))\n",
    "\n",
    "C4 = multiply_in_numba(A, B)"
   ]
  },
  {
   "cell_type": "code",
   "execution_count": 13,
   "id": "8b3ea1a5",
   "metadata": {},
   "outputs": [
    {
     "data": {
      "text/plain": [
       "True"
      ]
     },
     "execution_count": 13,
     "metadata": {},
     "output_type": "execute_result"
    }
   ],
   "source": [
    "np.all(C1.data == C4.data)"
   ]
  },
  {
   "cell_type": "code",
   "execution_count": 14,
   "id": "38a50047",
   "metadata": {},
   "outputs": [
    {
     "name": "stdout",
     "output_type": "stream",
     "text": [
      "7.09 ms ± 83.3 µs per loop (mean ± std. dev. of 7 runs, 100 loops each)\n"
     ]
    }
   ],
   "source": [
    "%timeit multiply_in_numba(A, B)"
   ]
  },
  {
   "cell_type": "markdown",
   "id": "ceed3c98",
   "metadata": {},
   "source": [
    "# Total Comparison"
   ]
  },
  {
   "cell_type": "code",
   "execution_count": 15,
   "id": "5865c50e",
   "metadata": {},
   "outputs": [
    {
     "name": "stdout",
     "output_type": "stream",
     "text": [
      "Naive Calculation\n",
      "159 ms ± 3.73 ms per loop (mean ± std. dev. of 7 runs, 10 loops each)\n",
      "Direct Manipulation in Python\n",
      "2.07 s ± 54.6 ms per loop (mean ± std. dev. of 7 runs, 1 loop each)\n",
      "Vectorization in Numpy\n",
      "33.6 ms ± 318 µs per loop (mean ± std. dev. of 7 runs, 10 loops each)\n",
      "Direct Manipulation in numba\n",
      "8.61 ms ± 575 µs per loop (mean ± std. dev. of 7 runs, 100 loops each)\n"
     ]
    }
   ],
   "source": [
    "print('Naive Calculation')\n",
    "%timeit naive_multiply(A, B)\n",
    "print('Direct Manipulation in Python')\n",
    "%timeit multiply_in_python(A, B)\n",
    "print('Vectorization in Numpy')\n",
    "%timeit multiply_in_numpy(A, B)\n",
    "print('Direct Manipulation in numba')\n",
    "%timeit multiply_in_numba(A, B)"
   ]
  }
 ],
 "metadata": {
  "kernelspec": {
   "display_name": "Python 3",
   "language": "python",
   "name": "python3"
  },
  "language_info": {
   "codemirror_mode": {
    "name": "ipython",
    "version": 3
   },
   "file_extension": ".py",
   "mimetype": "text/x-python",
   "name": "python",
   "nbconvert_exporter": "python",
   "pygments_lexer": "ipython3",
   "version": "3.9.0+"
  }
 },
 "nbformat": 4,
 "nbformat_minor": 5
}
