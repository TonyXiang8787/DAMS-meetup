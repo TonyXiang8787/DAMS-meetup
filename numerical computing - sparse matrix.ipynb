{
 "cells": [
  {
   "cell_type": "code",
   "execution_count": 1,
   "id": "b64f45a4",
   "metadata": {},
   "outputs": [],
   "source": [
    "import numpy as np\n",
    "import scipy.sparse as sp\n",
    "import numba"
   ]
  },
  {
   "cell_type": "code",
   "execution_count": 2,
   "id": "743d9718",
   "metadata": {},
   "outputs": [],
   "source": [
    "N = int(1e6)\n",
    "np.random.seed(1)\n",
    "\n",
    "A = sp.dia_matrix((np.random.randn(1, N), [0]), shape=(N, N))\n",
    "B = sp.csr_matrix(\n",
    "    (\n",
    "        np.random.randn(N * 4),  # 4N elements\n",
    "        (\n",
    "            np.repeat(np.arange(N), 4),\n",
    "            np.random.randint(low=N, high=None, size=N * 4)\n",
    "        )\n",
    "    ),\n",
    "    shape=(N, N)\n",
    ")\n",
    "B.sort_indices()\n",
    "B.sum_duplicates()"
   ]
  },
  {
   "cell_type": "code",
   "execution_count": 3,
   "id": "0bb45f29",
   "metadata": {},
   "outputs": [],
   "source": [
    "def naive_multiply(x, y):\n",
    "    z = x * y\n",
    "    z.sort_indices()\n",
    "    z.sum_duplicates()\n",
    "    return z\n",
    "\n",
    "C1 = naive_multiply(A, B)"
   ]
  },
  {
   "cell_type": "code",
   "execution_count": 4,
   "id": "be64233c",
   "metadata": {},
   "outputs": [
    {
     "name": "stdout",
     "output_type": "stream",
     "text": [
      "149 ms ± 2.43 ms per loop (mean ± std. dev. of 7 runs, 10 loops each)\n"
     ]
    }
   ],
   "source": [
    "%timeit naive_multiply(A, B)"
   ]
  },
  {
   "cell_type": "code",
   "execution_count": 5,
   "id": "84385de4",
   "metadata": {},
   "outputs": [],
   "source": [
    "def multiply_in_numpy(x, y):\n",
    "    res = y.copy()\n",
    "    ncols_per_row = np.diff(y.indptr)\n",
    "    row_indices = np.repeat(np.arange(y.shape[0]), ncols_per_row)\n",
    "    res.data *= x.data.ravel()[row_indices]\n",
    "    return res\n",
    "\n",
    "C2 = multiply_in_numpy(A, B)"
   ]
  },
  {
   "cell_type": "code",
   "execution_count": 6,
   "id": "a81b5555",
   "metadata": {},
   "outputs": [
    {
     "data": {
      "text/plain": [
       "True"
      ]
     },
     "execution_count": 6,
     "metadata": {},
     "output_type": "execute_result"
    }
   ],
   "source": [
    "np.all(C1.data == C2.data)"
   ]
  },
  {
   "cell_type": "code",
   "execution_count": 7,
   "id": "a4bb5fc5",
   "metadata": {},
   "outputs": [
    {
     "name": "stdout",
     "output_type": "stream",
     "text": [
      "34 ms ± 1.38 ms per loop (mean ± std. dev. of 7 runs, 10 loops each)\n"
     ]
    }
   ],
   "source": [
    "%timeit multiply_in_numpy(A, B)"
   ]
  },
  {
   "cell_type": "code",
   "execution_count": 8,
   "id": "54c6d22d",
   "metadata": {},
   "outputs": [],
   "source": [
    "@numba.njit\n",
    "def numba_core(indptr, data_x, data_y, data_z):\n",
    "    size = data_x.shape[0]\n",
    "    for i in range(size):\n",
    "        for k in range(indptr[i], indptr[i + 1]):\n",
    "            data_z[k] = data_x[i] * data_y[k]\n",
    "\n",
    "def multiply_in_numba(x, y):\n",
    "    z_data = np.empty_like(y.data)\n",
    "    numba_core(y.indptr, x.data.ravel(), y.data, z_data)\n",
    "    return sp.csr_matrix((z_data, y.indices, y.indptr), shape=(N, N))\n",
    "\n",
    "C3 = multiply_in_numba(A, B)"
   ]
  },
  {
   "cell_type": "code",
   "execution_count": 9,
   "id": "8b3ea1a5",
   "metadata": {},
   "outputs": [
    {
     "data": {
      "text/plain": [
       "True"
      ]
     },
     "execution_count": 9,
     "metadata": {},
     "output_type": "execute_result"
    }
   ],
   "source": [
    "np.all(C1.data == C3.data)"
   ]
  },
  {
   "cell_type": "code",
   "execution_count": 10,
   "id": "38a50047",
   "metadata": {},
   "outputs": [
    {
     "name": "stdout",
     "output_type": "stream",
     "text": [
      "7.3 ms ± 95.8 µs per loop (mean ± std. dev. of 7 runs, 100 loops each)\n"
     ]
    }
   ],
   "source": [
    "%timeit multiply_in_numba(A, B)"
   ]
  },
  {
   "cell_type": "code",
   "execution_count": null,
   "id": "970267db",
   "metadata": {},
   "outputs": [],
   "source": []
  }
 ],
 "metadata": {
  "kernelspec": {
   "display_name": "Python 3",
   "language": "python",
   "name": "python3"
  },
  "language_info": {
   "codemirror_mode": {
    "name": "ipython",
    "version": 3
   },
   "file_extension": ".py",
   "mimetype": "text/x-python",
   "name": "python",
   "nbconvert_exporter": "python",
   "pygments_lexer": "ipython3",
   "version": "3.9.0+"
  }
 },
 "nbformat": 4,
 "nbformat_minor": 5
}
